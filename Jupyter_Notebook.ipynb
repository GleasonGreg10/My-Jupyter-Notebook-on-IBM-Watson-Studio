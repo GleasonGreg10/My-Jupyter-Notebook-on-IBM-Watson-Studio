{
 "cells": [
  {
   "cell_type": "markdown",
   "metadata": {},
   "source": [
    "<center>\n",
    "    <img src=\"https://s3-api.us-geo.objectstorage.softlayer.net/cf-courses-data/CognitiveClass/Logos/organization_logo/organization_logo.png\" width=\"300\" alt=\"cognitiveclass.ai logo\"  />\n",
    "</center>\n"
   ]
  },
  {
   "cell_type": "markdown",
   "metadata": {},
   "source": [
    "# My Jupyter Notebook on IBM Watson Studio #"
   ]
  },
  {
   "cell_type": "markdown",
   "metadata": {},
   "source": [
    "**Gregory Gleason**\n",
    "\n",
    "Quality Assurance Team Lead"
   ]
  },
  {
   "cell_type": "markdown",
   "metadata": {},
   "source": [
    "*I am interested in Data Science because it allows more methods to understand, manipulate, and gain insight from information. I hope to be able to use this to improve my current performance and open new doors in the future.*"
   ]
  },
  {
   "cell_type": "markdown",
   "metadata": {
    "tags": []
   },
   "source": [
    "### The code seen in Cell 5 is meant to display the addition of 1 + 1 ###"
   ]
  },
  {
   "cell_type": "code",
   "execution_count": 2,
   "metadata": {},
   "outputs": [
    {
     "data": {
      "text/plain": [
       "2"
      ]
     },
     "execution_count": 2,
     "metadata": {},
     "output_type": "execute_result"
    }
   ],
   "source": [
    "1+1"
   ]
  },
  {
   "cell_type": "markdown",
   "metadata": {},
   "source": [
    "Blocked quotes\n",
    "> I am grateful for this lesson\n",
    "\n",
    "> I hope it helps me learn\n",
    "\n",
    "> I hope to further my data science career!\n",
    "\n",
    "\n",
    "Below will be a numbered list\n",
    "1. first number\n",
    "2. second number\n",
    "3. third number \n",
    "\n",
    "Below is the hyperlink\n",
    "\n",
    "[link text] (https://www.google.com/search?q=ferret&sxsrf=ALiCzsYIV2mt-anpzjraNjzTM9gc25LVVg:1657417735684&tbm=isch&source=iu&ictx=1&vet=1&fir=0eDr3TU-CG8GbM%252CjkYrSkW24kID-M%252C_%253BgJ1fSkc3b_P2EM%252CTsy26Gu_2rtIIM%252C_%253BHMYWA1aIgOHdrM%252Cf4DRuSM7xexJ7M%252C_%253BzHOU4SQnI0Ne9M%252Cq2OP5D-Dq3SxcM%252C_%253BmLrloqyvfKGsFM%252C9d-zNcPHqBssNM%252C_%253B1-6mX1_KHBQzbM%252CQqaS-JIOiMXLlM%252C_%253BP_zR3l4X2mBrVM%252CpWui8YkL569oPM%252C_%253BiXwndeVpIQFrYM%252C8HdWCuihPrdxaM%252C_%253B8SuYaPzB1FFA0M%252C4orRY8YH_toKNM%252C_%253BZM5umR4WY8J2gM%252CzvhRjd_HXxoeqM%252C_%253BGYvpJIApf-kObM%252Cgy-dP8_uZX-1gM%252C_%253BPvfmk-ZzBmA5dM%252Cf25QNM7MFeL1dM%252C_&usg=AI4_-kQF1vPvQmRn_oYFWYQH5v1Apjo99w&sa=X&ved=2ahUKEwiIxoSbmu34AhVjomoFHTbMCp4Q9QF6BAgcEAE#imgrc=0eDr3TU-CG8GbM)"
   ]
  },
  {
   "cell_type": "code",
   "execution_count": null,
   "metadata": {},
   "outputs": [],
   "source": []
  }
 ],
 "metadata": {
  "kernelspec": {
   "display_name": "Python",
   "language": "python",
   "name": "conda-env-python-py"
  },
  "language_info": {
   "codemirror_mode": {
    "name": "ipython",
    "version": 3
   },
   "file_extension": ".py",
   "mimetype": "text/x-python",
   "name": "python",
   "nbconvert_exporter": "python",
   "pygments_lexer": "ipython3",
   "version": "3.7.12"
  }
 },
 "nbformat": 4,
 "nbformat_minor": 4
}
